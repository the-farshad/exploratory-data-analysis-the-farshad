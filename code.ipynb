{
 "cells": [
  {
   "cell_type": "markdown",
   "metadata": {},
   "source": [
    "# Exploratory Data Analysis (EDA) of National Solar Radiation Database (NSRDB) Data\n",
    "### 1. Introduction\n",
    "Exploratory Data Analysis (EDA) is a critical phase in data analysis, enabling us to comprehend the dataset, discern patterns, and formulate hypotheses. This project utilizes the NSRDB, a publicly available dataset known for its high temporal and spatial resolution. It includes key solar radiation measurements—global horizontal, direct normal, and diffuse horizontal irradiance—along with additional meteorological data. The dataset is produced by NREL's Physical Solar Model (PSM), using data from NOAA's GOES, NIC's IMS, NASA's MODIS, and MERRA-2. The PSM leverages atmospheric components like aerosols and water vapor, combined with satellite-derived cloud data in the FARMS algorithm, to calculate GHI.\n",
    "\n",
    "![Data flow from satellite to solar radiation measurement](https://gds-files.nrelcloud.org/auto-sync/nsrdb/assets/about/data_flow_chart.png)\n",
    "\n",
    "### 1.1. Data\n",
    "The dataset is available in various intervals and spans, with the project data from 2022 available in 5-minute intervals and a 2km resolution. It can be downloaded in CSV format from the [NREL website](https://nsrdb.nrel.gov/). For accessing entire continent datasets, data.openei.org offers unrestricted downloads, although files are approximately 2GB each and are in the h5 format used for this project. This binary Hierarchical Data Format (HDF) stores substantial scientific data in multidimensional arrays, serving as a standard for large-scale data storage.\n",
    "\n",
    "### 1.2 Data Description\n",
    "The file selected for this project is the 2022 data for CONUS (Continental United States) in 5-minute intervals and 2km resolution(nsrdb_conus_irradiance_2022.h5). This h5 file contains the following datasets:\n",
    "\n"
   ]
  },
  {
   "cell_type": "code",
   "execution_count": 1,
   "metadata": {
    "vscode": {
     "languageId": "shellscript"
    }
   },
   "outputs": [
    {
     "name": "stdout",
     "output_type": "stream",
     "text": [
      "03_NSRDB_introduction.ipynb     irradiance_distrbution.ipynb\n",
      "albanycounty-summer.ipynb       nsrdb_conus_irradiance_2022_filtered_cp.h5\n",
      "convert.py                      nsrdb_conus_irradiance_2022.h5\n",
      "daily-solar-radiation-us.ipynb  plotting.ipynb\n",
      "filter_h5.ipynb                 requirements.txt\n",
      "ghi_2022.h5                     \u001b[0m\u001b[01;32mscript.sh\u001b[0m*\n",
      "ghi_2022_summer.h5              wyoming-daily-solar-radiation.ipynb\n",
      "\u001b[01;34mgif\u001b[0m/\n"
     ]
    }
   ],
   "source": []
  }
 ],
 "metadata": {
  "kernelspec": {
   "display_name": "GPU Workshop",
   "language": "python",
   "name": "pygpu"
  },
  "language_info": {
   "codemirror_mode": {
    "name": "ipython",
    "version": 3
   },
   "file_extension": ".py",
   "mimetype": "text/x-python",
   "name": "python",
   "nbconvert_exporter": "python",
   "pygments_lexer": "ipython3",
   "version": "3.9.16"
  }
 },
 "nbformat": 4,
 "nbformat_minor": 2
}
